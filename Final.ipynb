{
  "nbformat": 4,
  "nbformat_minor": 0,
  "metadata": {
    "colab": {
      "name": "Final.ipynb",
      "private_outputs": true,
      "provenance": [],
      "collapsed_sections": [],
      "toc_visible": true,
      "include_colab_link": true
    },
    "kernelspec": {
      "display_name": "Python 3",
      "language": "python",
      "name": "python3"
    },
    "language_info": {
      "codemirror_mode": {
        "name": "ipython",
        "version": 3
      },
      "file_extension": ".py",
      "mimetype": "text/x-python",
      "name": "python",
      "nbconvert_exporter": "python",
      "pygments_lexer": "ipython3",
      "version": "3.8.5"
    }
  },
  "cells": [
    {
      "cell_type": "markdown",
      "metadata": {
        "id": "view-in-github",
        "colab_type": "text"
      },
      "source": [
        "<a href=\"https://colab.research.google.com/github/LeadWisely99/KoSentenceBERT_SKTBERT/blob/main/Final.ipynb\" target=\"_parent\"><img src=\"https://colab.research.google.com/assets/colab-badge.svg\" alt=\"Open In Colab\"/></a>"
      ]
    },
    {
      "cell_type": "code",
      "metadata": {
        "id": "yCc-u8IMUIJ6"
      },
      "source": [
        "!pip install -U pandas_profiling\n",
        "\n",
        "import pandas as pd\n",
        "import matplotlib.pyplot as plt\n",
        "import os\n",
        "import seaborn as sns\n",
        "import numpy as np\n",
        "from sklearn.preprocessing import StandardScaler\n",
        "from scipy import stats\n",
        "from scipy.stats import norm, skew\n",
        "import pandas_profiling as pp\n",
        "import warnings\n",
        "import datetime\n",
        "warnings.filterwarnings('ignore') # warnings 무시\n",
        "%matplotlib inline"
      ],
      "execution_count": null,
      "outputs": []
    },
    {
      "cell_type": "code",
      "metadata": {
        "id": "3pSsSPrZUNGe"
      },
      "source": [
        "# sns Theme\n",
        "sns.set_style('darkgrid')\n",
        "\n",
        "# 소수점 표현 제한\n",
        "pd.set_option('display.float_format', lambda x : '{:.3f}'.format(x))\n",
        "\n",
        "# 최대 출력 row 수 확장\n",
        "pd.options.display.max_rows = 100000"
      ],
      "execution_count": null,
      "outputs": []
    },
    {
      "cell_type": "code",
      "metadata": {
        "id": "F95aCQX5UPLb"
      },
      "source": [
        "from google.colab import drive\n",
        "drive.mount(\"/content/drive\")"
      ],
      "execution_count": null,
      "outputs": []
    },
    {
      "cell_type": "code",
      "metadata": {
        "id": "Hh-tC6KuUQ0h"
      },
      "source": [
        "X = pd.read_csv('/content/drive/MyDrive/OneMoreRollie/21_OMR/final.csv')"
      ],
      "execution_count": null,
      "outputs": []
    },
    {
      "cell_type": "code",
      "metadata": {
        "id": "c1MyxSzVb_Kz"
      },
      "source": [
        "# pr = pp.ProfileReport(X)\n",
        "# pr.to_file('pr_report.html')"
      ],
      "execution_count": null,
      "outputs": []
    },
    {
      "cell_type": "code",
      "metadata": {
        "id": "OURsfX_ReUSQ"
      },
      "source": [
        "X.head(10)"
      ],
      "execution_count": null,
      "outputs": []
    },
    {
      "cell_type": "markdown",
      "metadata": {
        "id": "F5Jaeec6edS5"
      },
      "source": [
        "# 1. 데이터 전처리_X\n"
      ]
    },
    {
      "cell_type": "markdown",
      "metadata": {
        "id": "ZjOflHa-f_7B"
      },
      "source": [
        "## 1.1 열 삭제 ##"
      ]
    },
    {
      "cell_type": "code",
      "metadata": {
        "id": "4wtBf6InefUZ"
      },
      "source": [
        "X_pre = X\n",
        "\n",
        "# 실적 경쟁 여부\n",
        "i_arslt_cmpt_yn = X_pre[X_pre['arslt_cmpt_yn']!='N'].index\n",
        "X_pre = X_pre.drop(i_arslt_cmpt_yn)\n",
        "del X_pre['arslt_cmpt_yn']\n",
        "\n",
        "# 입찰방식명\n",
        "i_bid_methd_nm = X_pre[X_pre['bid_methd_nm']!='전자입찰'].index\n",
        "X_pre = X_pre.drop(i_bid_methd_nm)\n",
        "del X_pre['bid_methd_nm']\n",
        "\n",
        "# 입찰 참가 제한 여부\n",
        "i_bid_prtcpt_lmt_yn = X_pre[X_pre['bid_prtcpt_lmt_yn']!='N'].index\n",
        "X_pre = X_pre.drop(i_bid_prtcpt_lmt_yn)\n",
        "del X_pre['bid_prtcpt_lmt_yn']\n",
        "\n",
        "# 지사 투찰 허용 여부\n",
        "i_brffc_bidprc_permsn_yn = X_pre[X_pre['brffc_bidprc_permsn_yn']!='N'].index\n",
        "X_pre = X_pre.drop(i_brffc_bidprc_permsn_yn)\n",
        "del X_pre['brffc_bidprc_permsn_yn']\n",
        "\n",
        "# 변경일시\n",
        "del X_pre['chg_dt']\n",
        "\n",
        "# 방사청\n",
        "del X_pre['d2b_mng_assmnt_lwstlmt_rt']\n",
        "del X_pre['d2b_mng_assmnt_uplmt_rt']\n",
        "del X_pre['d2b_mng_bssamt']\n",
        "del X_pre['d2b_mng_cnstwk_no']\n",
        "del X_pre['d2b_mng_dmnd_year']\n",
        "del X_pre['d2b_mng_rgn_lmt_yn']\n",
        "del X_pre['d2b_mng_rgst_eval_exmp_yn']\n",
        "del X_pre['d2b_mng_rsrvtn_prce_bss_apl_yn']\n",
        "\n",
        "# 추첨예가건수\n",
        "i_drwt_prdprc_num = X_pre[X_pre['drwt_prdprc_num']!=4].index\n",
        "X_pre = X_pre.drop(i_drwt_prdprc_num)\n",
        "del X_pre['drwt_prdprc_num']\n",
        "\n",
        "# 지명경쟁여부\n",
        "i_dsgnt_cmpt_yn = X_pre[X_pre['dsgnt_cmpt_yn']!='N'].index\n",
        "X_pre = X_pre.drop(i_dsgnt_cmpt_yn)\n",
        "del X_pre['dsgnt_cmpt_yn']\n",
        "\n",
        "# 지명경쟁여부\n",
        "i_indstryty_lmt_yn = X_pre[X_pre['indstryty_lmt_yn']!='Y'].index\n",
        "X_pre = X_pre.drop(i_indstryty_lmt_yn)\n",
        "del X_pre['indstryty_lmt_yn']\n",
        "\n",
        "# 예정가격결정방법명\n",
        "i_prearng_prce_dcsn_mthd_nm = X_pre[X_pre['prearng_prce_dcsn_mthd_nm']!='복수예가'].index\n",
        "X_pre = X_pre.drop(i_prearng_prce_dcsn_mthd_nm)\n",
        "del X_pre['prearng_prce_dcsn_mthd_nm']\n",
        "\n",
        "# 재공고여부\n",
        "i_re_ntce_yn = X_pre[X_pre['re_ntce_yn']!='N'].index\n",
        "X_pre = X_pre.drop(i_re_ntce_yn)\n",
        "del X_pre['re_ntce_yn']\n",
        "\n",
        "# 등록유형명\n",
        "i_rgst_ty_nm = X_pre[X_pre['rgst_ty_nm']!='조달청 또는 나라장터 자체 공고건'].index\n",
        "X_pre = X_pre.drop(i_rgst_ty_nm)\n",
        "del X_pre['rgst_ty_nm']\n",
        "\n",
        "# 총예가건수\n",
        "i_tot_prdprc_num = X_pre[X_pre['tot_prdprc_num']!=15].index\n",
        "X_pre = X_pre.drop(i_tot_prdprc_num)\n",
        "del X_pre['tot_prdprc_num']\n",
        "\n",
        "# 환경보전비\n",
        "i_env_cnsrvcst = X_pre[X_pre['env_cnsrvcst']!=0].index\n",
        "X_pre = X_pre.drop(i_env_cnsrvcst)\n",
        "del X_pre['env_cnsrvcst']\n",
        "\n",
        "# 평가기준금액\n",
        "i_evl_bss_amt = X_pre[X_pre['evl_bss_amt']!=0].index\n",
        "X_pre = X_pre.drop(i_evl_bss_amt)\n",
        "del X_pre['evl_bss_amt']\n",
        "\n",
        "# 품질관리비\n",
        "i_qlty_mngcst = X_pre[X_pre['qlty_mngcst']!=0].index\n",
        "X_pre = X_pre.drop(i_qlty_mngcst)\n",
        "del X_pre['qlty_mngcst']\n",
        "\n",
        "\n",
        "# 품질관리비A적용대상여부\n",
        "i_qlty_mngcst_a_obj_yn = X_pre[X_pre['qlty_mngcst_a_obj_yn']!='N'].index\n",
        "X_pre = X_pre.drop(i_qlty_mngcst_a_obj_yn)\n",
        "del X_pre['qlty_mngcst_a_obj_yn']\n",
        "\n",
        "# 비고\n",
        "del X_pre['rmrk1']\n",
        "del X_pre['rmrk2']\n",
        "\n",
        "# 하도급대금지급보증수수료\n",
        "i_scontrct_payprce_pay_grnty_fee = X_pre[X_pre['scontrct_payprce_pay_grnty_fee']!=0].index\n",
        "X_pre = X_pre.drop(i_scontrct_payprce_pay_grnty_fee)\n",
        "del X_pre['scontrct_payprce_pay_grnty_fee']\n",
        "\n",
        "# 가용금액\n",
        "del X_pre['useful_amt']\n",
        "\n",
        "# 입찰분류번호\n",
        "del X_pre['bid_clsfc_no']\n",
        "\n",
        "# 총예가건수2\n",
        "del X_pre['tot_rsrvtn_prce_num']\n",
        "\n",
        "# 연계기관명\n",
        "del X_pre['link_instt_nm']\n",
        "\n",
        "# 최종낙찰업체\n",
        "del X_pre['bidwinnr_adrs']\n",
        "del X_pre['bidwinnr_bizno']\n",
        "del X_pre['bidwinnr_ceo_nm']\n",
        "del X_pre['bidwinnr_nm']\n",
        "del X_pre['bidwinnr_tel_no']"
      ],
      "execution_count": null,
      "outputs": []
    },
    {
      "cell_type": "markdown",
      "metadata": {
        "id": "DRKyA7g0eqV2"
      },
      "source": [
        "## 1.2 행 삭제"
      ]
    },
    {
      "cell_type": "code",
      "metadata": {
        "id": "dj41BSj7enpz"
      },
      "source": [
        "# 낙찰하한율 \n",
        "i_sucsfbid_lwlt_rate = X_pre[(X_pre['sucsfbid_lwlt_rate']!=87.745) & (X_pre['sucsfbid_lwlt_rate']!=86.745)].index\n",
        "X_pre = X_pre.drop(i_sucsfbid_lwlt_rate)\n",
        "\n",
        "# 예비가격범위시작률 \n",
        "i_rsrvtn_prce_rng_bgn_rate = X_pre[(X_pre['rsrvtn_prce_rng_bgn_rate']!=-3) & (X_pre['rsrvtn_prce_rng_bgn_rate']!=-2)].index\n",
        "X_pre = X_pre.drop(i_rsrvtn_prce_rng_bgn_rate)\n",
        "\n",
        "# 예비가격범위종료률 \n",
        "i_rsrvtn_prce_rng_end_rate = X_pre[(X_pre['rsrvtn_prce_rng_end_rate']!=3) & (X_pre['rsrvtn_prce_rng_end_rate']!=2)].index\n",
        "X_pre = X_pre.drop(i_rsrvtn_prce_rng_end_rate)\n",
        "\n",
        "# 입찰공고차수 \n",
        "i_bid_ntce_ord = X_pre[(X_pre['bid_ntce_ord']!=0) & (X_pre['bid_ntce_ord']!=1)].index\n",
        "X_pre = X_pre.drop(i_bid_ntce_ord)\n",
        "\n",
        "# 최종낙찰자선정적용기준내용 \n",
        "i_bidwinr_slctn_apl_bss_cntnts = X_pre[(X_pre['bidwinr_slctn_apl_bss_cntnts']!='행정자치부 기준') & (X_pre['bidwinr_slctn_apl_bss_cntnts']!='조달청 기준')].index\n",
        "X_pre = X_pre.drop(i_bidwinr_slctn_apl_bss_cntnts)\n",
        "\n",
        "# 기초금액기준상위건수 \n",
        "i_bssamt_bss_up_num = X_pre[(X_pre['bssamt_bss_up_num']!=7) & (X_pre['bssamt_bss_up_num']!=8)].index\n",
        "X_pre = X_pre.drop(i_bssamt_bss_up_num)\n",
        "\n",
        "# 재입찰번호 \n",
        "i_rbid_no = X_pre[(X_pre['rbid_no']!=0) & (X_pre['rbid_no']!=1)].index\n",
        "X_pre = X_pre.drop(i_rbid_no)\n",
        "\n",
        "# 재입찰번호 \n",
        "i_rbid_no = X_pre[(X_pre['rbid_no']!=0) & (X_pre['rbid_no']!=1)].index\n",
        "X_pre = X_pre.drop(i_rbid_no)"
      ],
      "execution_count": null,
      "outputs": []
    },
    {
      "cell_type": "markdown",
      "metadata": {
        "id": "SuaN11OJe0IS"
      },
      "source": [
        "## 1.3 추가 조정 ##"
      ]
    },
    {
      "cell_type": "code",
      "metadata": {
        "id": "hNuSgwP-eua_"
      },
      "source": [
        "# 지역의무공동도급비율\n",
        "del X_pre['rgn_duty_jntcontrct_rt']\n",
        "\n",
        "# 지역의무공동도급여부\n",
        "del X_pre['rgn_duty_jntcontrct_yn']"
      ],
      "execution_count": null,
      "outputs": []
    },
    {
      "cell_type": "code",
      "metadata": {
        "id": "OqPev_-IexXS"
      },
      "source": [
        "# 적용기준내용\n",
        "X_pre.loc[(X_pre['apl_bss_cntnts']==False)]= 'Null'\n",
        "X_pre.loc[(X_pre['main_cnstty_nm']==False)]= 'Null'\n",
        "\n",
        "# 계약체결방법명 \n",
        "i_cntrct_cncls_mthd_nm = X_pre[(X_pre['cntrct_cncls_mthd_nm']!='수의(소액)') & (X_pre['cntrct_cncls_mthd_nm']!='수의(소액)-견적입찰(2인 이상 견적 제출)') & (X_pre['cntrct_cncls_mthd_nm']!='제한경쟁') & (X_pre['cntrct_cncls_mthd_nm']!='지역제한')].index\n",
        "X_pre = X_pre.drop(i_cntrct_cncls_mthd_nm)\n",
        "\n",
        "# 기초금액 \n",
        "i_bssamt = X_pre[(X_pre['bssamt']<10000000) | (X_pre['bssamt']>3000000000)].index\n",
        "X_pre = X_pre.drop(i_bssamt)\n",
        "\n",
        "# 수요기관/최종낙찰 \n",
        "i_dminstt_cd = X_pre[X_pre['dminstt_cd']==None].index\n",
        "X_pre = X_pre.drop(i_dminstt_cd)\n",
        "\n",
        "# 난이도 계수\n",
        "i_dfcltydgr_cfcnt = X_pre[(X_pre['dfcltydgr_cfcnt']==None)].index\n",
        "X_pre = X_pre.drop(i_dfcltydgr_cfcnt)\n",
        "del X_pre['dfcltydgr_cfcnt']\n",
        "\n",
        "# 주공종공사예정금액\n",
        "X_pre['bss_amt_purcnstcst'].fillna(0)\n",
        "                           \n",
        "# 적용 기준 내용\n",
        "X_pre.loc[(X_pre['rsrvtn_prce_rng_end_rate'] == 2) & (X_pre['apl_bss_cntnts'].isna()), 'apl_bss_cntnts'] = '조달청'\n",
        "X_pre.loc[(X_pre['rsrvtn_prce_rng_end_rate'] == 3) & (X_pre['apl_bss_cntnts'].isna()), 'apl_bss_cntnts'] = '행자부'\n",
        "\n",
        "# 업종평가비율\n",
        "X_pre['indstryty_evl_rt'].fillna(-1000, inplace = True)\n",
        "\n",
        "# 주공종공사예정금액\n",
        "X_pre['main_cnstty_cnstwk_prearng_amt'].fillna(-1000, inplace = True)\n",
        "\n",
        "# 주공종추정가격\n",
        "X_pre['main_cnstty_presmpt_prce'].fillna(-1000, inplace = True)\n",
        "\n",
        "# 기초금액 순공사비\n",
        "del X_pre['bss_amt_purcnstcst']        \n",
        "\n",
        "# 기타경비 기준율\n",
        "del X_pre['etc_gnrlexpns_bss_rate']\n",
        "\n",
        "# 일반 관리비 기준율\n",
        "del X_pre['gnrl_mngcst_bss_rate']\n",
        "\n",
        "# 노무비 기준율\n",
        "del X_pre['lbrcst_bss_rate']\n",
        "del X_pre['prft_bss_rate']\n",
        "\n",
        "# 수요기관 코드\n",
        "i_dminstt_cd = X_pre[(X_pre['dminstt_cd']==None)].index\n",
        "X_pre = X_pre.drop(i_dminstt_cd)\n",
        "\n",
        "# 수요기관 명\n",
        "i_dminstt_nm = X_pre[(X_pre['dminstt_nm']==None)].index\n",
        "X_pre = X_pre.drop(i_dminstt_nm)\n",
        "\n",
        "# ntce_div_cd\n",
        "del X_pre['ntce_div_cd']"
      ],
      "execution_count": null,
      "outputs": []
    },
    {
      "cell_type": "code",
      "metadata": {
        "id": "AKM1Rpibe0kj"
      },
      "source": [
        "# 최종 낙찰 업체 담당자\n",
        "del X_pre['fnl_sucsf_corp_ofcl']\n",
        "\n",
        "# 최종 낙찰 일자\n",
        "del X_pre['fnl_sucsf_date']\n",
        "\n",
        "# 최종 낙찰 금액\n",
        "i_sucsfbid_amt = X_pre[(X_pre['sucsfbid_amt']==None)].index\n",
        "X_pre = X_pre.drop(i_sucsfbid_amt)\n",
        "\n",
        "# 지역\n",
        "i_seoul = X_pre[(X_pre['seoul']!=0)&(X_pre['seoul']!=1)].index\n",
        "X_pre = X_pre.drop(i_seoul)\n",
        "\n",
        "i_gwangju = X_pre[(X_pre['gwangju']!=0)&(X_pre['gwangju']!=1)].index\n",
        "X_pre = X_pre.drop(i_gwangju)\n",
        "\n",
        "i_gyeongbuk = X_pre[(X_pre['gyeongbuk']!=0)&(X_pre['gyeongbuk']!=1)].index\n",
        "X_pre = X_pre.drop(i_gyeongbuk)"
      ],
      "execution_count": null,
      "outputs": []
    },
    {
      "cell_type": "markdown",
      "metadata": {
        "id": "p1VyUrPIfKpw"
      },
      "source": [
        "## 2. 전처리 결과 점검 ##"
      ]
    },
    {
      "cell_type": "code",
      "metadata": {
        "id": "kF_Gk2tBfGF5"
      },
      "source": [
        "X_pre.shape"
      ],
      "execution_count": null,
      "outputs": []
    },
    {
      "cell_type": "code",
      "metadata": {
        "id": "zfOCxwhWwoOH"
      },
      "source": [
        "# pr = pp.ProfileReport(X_pre)\n",
        "# pr.to_file('preprocessed_report.html')"
      ],
      "execution_count": null,
      "outputs": []
    },
    {
      "cell_type": "code",
      "metadata": {
        "id": "ZvGnLqW9h6_j"
      },
      "source": [
        "X_pre.info()"
      ],
      "execution_count": null,
      "outputs": []
    },
    {
      "cell_type": "markdown",
      "metadata": {
        "id": "eSaFZUE3T3M8"
      },
      "source": [
        "# 2. 데이터 전처리_P #"
      ]
    },
    {
      "cell_type": "code",
      "metadata": {
        "id": "TBEHrqghh-MM"
      },
      "source": [
        "P = pd.read_csv('/content/drive/MyDrive/OneMoreRollie/21_OMR/only15_bsis_plnprc.csv')"
      ],
      "execution_count": null,
      "outputs": []
    },
    {
      "cell_type": "code",
      "metadata": {
        "id": "X-YNwADa856h"
      },
      "source": [
        "P_grouped = P.groupby('bid_ntce_no')"
      ],
      "execution_count": null,
      "outputs": []
    },
    {
      "cell_type": "code",
      "metadata": {
        "id": "4WuHb0ci4kkU"
      },
      "source": [
        "col = ['prearng_prce_purcnstcst', 'bid_ntce_nm', 'bid_ntce_ord', 'bidwinr_slctn_apl_bss_cntnts', \n",
        "       'bssamt_bss_up_num', 'compno_rsrvtn_prce_mkng_dt', 'compno_rsrvtn_prce_sno', 'inpt_dt',\n",
        "       'plnprc', 'rbid_no', 'rl_openg_dt']\n",
        "P.drop(col, axis='columns', inplace=True)"
      ],
      "execution_count": null,
      "outputs": []
    },
    {
      "cell_type": "code",
      "metadata": {
        "id": "J8u9TVT-6kiS"
      },
      "source": [
        "P.head(10)"
      ],
      "execution_count": null,
      "outputs": []
    },
    {
      "cell_type": "markdown",
      "metadata": {
        "id": "23jB7pmYUEFb"
      },
      "source": [
        "## 2.1 Left Join; X = X_pre + P"
      ]
    },
    {
      "cell_type": "code",
      "metadata": {
        "id": "_CBkNDdntZCH"
      },
      "source": [
        "P.shape"
      ],
      "execution_count": null,
      "outputs": []
    },
    {
      "cell_type": "code",
      "metadata": {
        "id": "qzM9kQwY0c2c"
      },
      "source": [
        "X = pd.merge(X_pre, P, left_on='bid_ntce_no', right_on='bid_ntce_no', how='left')\n",
        "X.head(30)"
      ],
      "execution_count": null,
      "outputs": []
    },
    {
      "cell_type": "code",
      "metadata": {
        "id": "9ESIpv1G1Erh"
      },
      "source": [
        "X.info()"
      ],
      "execution_count": null,
      "outputs": []
    },
    {
      "cell_type": "markdown",
      "metadata": {
        "id": "bz5DTYprPbbq"
      },
      "source": [
        "# 3. 데이터 전처리_X+P"
      ]
    },
    {
      "cell_type": "markdown",
      "metadata": {
        "id": "Ph_sA-kjB1hu"
      },
      "source": [
        "## 3.1 날짜 데이터 전처리하기"
      ]
    },
    {
      "cell_type": "code",
      "metadata": {
        "id": "lU7ldch08U9O"
      },
      "source": [
        "X['bid_begin_dt'] = X['bid_begin_dt'].apply(lambda _: datetime.datetime.strptime(_, '%Y-%m-%d %H:%M:%S'))\n",
        "X['bid_begin_dt_Year'] = X['bid_begin_dt'].dt.year\n",
        "X['bid_begin_dt_Month'] = X['bid_begin_dt'].dt.month\n",
        "X['bid_begin_dt_Day'] = X['bid_begin_dt'].dt.day\n",
        "X['bid_begin_dt_Hour'] = X['bid_begin_dt'].dt.hour\n",
        "X.drop(['bid_begin_dt'], inplace=True, axis=1)\n",
        "\n",
        "X['bid_clse_dt'] = X['bid_clse_dt'].apply(lambda _: datetime.datetime.strptime(_, '%Y-%m-%d %H:%M:%S'))\n",
        "X['bid_clse_dt_Year'] = X['bid_clse_dt'].dt.year\n",
        "X['bid_clse_dt_Month'] = X['bid_clse_dt'].dt.month\n",
        "X['bid_clse_dt_Day'] = X['bid_clse_dt'].dt.day\n",
        "X['bid_clse_dt_Hour'] = X['bid_clse_dt'].dt.hour\n",
        "X.drop(['bid_clse_dt'], inplace=True, axis=1)\n",
        "\n",
        "X['bid_ntce_dt'] = X['bid_ntce_dt'].apply(lambda _: datetime.datetime.strptime(_, '%Y-%m-%d %H:%M:%S'))\n",
        "X['bid_ntce_dt_Year'] = X['bid_ntce_dt'].dt.year\n",
        "X['bid_ntce_dt_Month'] = X['bid_ntce_dt'].dt.month\n",
        "X['bid_ntce_dt_Day'] = X['bid_ntce_dt'].dt.day\n",
        "X['bid_ntce_dt_Hour'] = X['bid_ntce_dt'].dt.hour\n",
        "X.drop(['bid_ntce_dt'], inplace=True, axis=1)\n",
        "\n",
        "X['rgst_dt'] = X['rgst_dt'].apply(lambda _: datetime.datetime.strptime(_, '%Y-%m-%d %H:%M:%S'))\n",
        "X['rgst_dt_Year'] = X['rgst_dt'].dt.year\n",
        "X['rgst_dt_Month'] = X['rgst_dt'].dt.month\n",
        "X['rgst_dt_Day'] = X['rgst_dt'].dt.day\n",
        "X['rgst_dt_Hour'] = X['rgst_dt'].dt.hour\n",
        "X.drop(['rgst_dt'], inplace=True, axis=1)\n",
        "\n",
        "X['bssamt_open_dt'] = X['bssamt_open_dt'].apply(lambda _: datetime.datetime.strptime(_, '%Y-%m-%d %H:%M:%S'))\n",
        "X['bssamt_open_dt_Year'] = X['bssamt_open_dt'].dt.year\n",
        "X['bssamt_open_dt_Month'] = X['bssamt_open_dt'].dt.month\n",
        "X['bssamt_open_dt_Day'] = X['bssamt_open_dt'].dt.day\n",
        "X['bssamt_open_dt_Hour'] = X['bssamt_open_dt'].dt.hour\n",
        "X.drop(['bssamt_open_dt'], inplace=True, axis=1)\n",
        "\n",
        "X['compno_rsrvtn_prce_mkng_dt'] = X['compno_rsrvtn_prce_mkng_dt'].apply(lambda _: datetime.datetime.strptime(_, '%Y-%m-%d %H:%M:%S'))\n",
        "X['compno_rsrvtn_prce_mkng_dt_Year'] = X['compno_rsrvtn_prce_mkng_dt'].dt.year\n",
        "X['compno_rsrvtn_prce_mkng_dt_Month'] = X['compno_rsrvtn_prce_mkng_dt'].dt.month\n",
        "X['compno_rsrvtn_prce_mkng_dt_Day'] = X['compno_rsrvtn_prce_mkng_dt'].dt.day\n",
        "X['compno_rsrvtn_prce_mkng_dt_Hour'] = X['compno_rsrvtn_prce_mkng_dt'].dt.hour\n",
        "X.drop(['compno_rsrvtn_prce_mkng_dt'], inplace=True, axis=1)\n",
        "\n",
        "X['inpt_dt'] = X['inpt_dt'].apply(lambda _: datetime.datetime.strptime(_, '%Y-%m-%d %H:%M:%S'))\n",
        "X['inpt_dt_Year'] = X['inpt_dt'].dt.year\n",
        "X['inpt_dt_Month'] = X['inpt_dt'].dt.month\n",
        "X['inpt_dt_Day'] = X['inpt_dt'].dt.day\n",
        "X['inpt_dt_Hour'] = X['inpt_dt'].dt.hour\n",
        "X.drop(['inpt_dt'], inplace=True, axis=1)\n",
        "\n",
        "X['rl_openg_dt'] = X['rl_openg_dt'].apply(lambda _: datetime.datetime.strptime(_, '%Y-%m-%d %H:%M:%S'))\n",
        "X['rl_openg_dt_Year'] = X['rl_openg_dt'].dt.year\n",
        "X['rl_openg_dt_Month'] = X['rl_openg_dt'].dt.month\n",
        "X['rl_openg_dt_Day'] = X['rl_openg_dt'].dt.day\n",
        "X['rl_openg_dt_Hour'] = X['rl_openg_dt'].dt.hour\n",
        "X.drop(['rl_openg_dt'], inplace=True, axis=1)"
      ],
      "execution_count": null,
      "outputs": []
    },
    {
      "cell_type": "code",
      "metadata": {
        "id": "hC4alRRLJHF_"
      },
      "source": [
        "X = X.sort_values(['bid_ntce_no', 'bsis_plnprc'], ascending=[False, False])"
      ],
      "execution_count": null,
      "outputs": []
    },
    {
      "cell_type": "markdown",
      "metadata": {
        "id": "Di8c7ylnO_rA"
      },
      "source": [
        "## 3.2 텍스트 데이터 전처리하기"
      ]
    },
    {
      "cell_type": "code",
      "metadata": {
        "id": "pg1tuWd0PN8p"
      },
      "source": [
        "X.columns"
      ],
      "execution_count": null,
      "outputs": []
    },
    {
      "cell_type": "code",
      "metadata": {
        "id": "eGD5QGbjPSiB"
      },
      "source": [
        "col_text = ['bid_ntce_nm', 'cnstrtsite_rgn_nm', 'dminstt_nm']"
      ],
      "execution_count": null,
      "outputs": []
    },
    {
      "cell_type": "code",
      "metadata": {
        "id": "5oCrmVu8OvMJ"
      },
      "source": [
        "X.head(30)"
      ],
      "execution_count": null,
      "outputs": []
    },
    {
      "cell_type": "code",
      "metadata": {
        "id": "tSz_KmK4PLAf"
      },
      "source": [
        ""
      ],
      "execution_count": null,
      "outputs": []
    },
    {
      "cell_type": "markdown",
      "metadata": {
        "id": "uF9KzVUCRKGL"
      },
      "source": [
        "## 3.3 카테고리 데이터 전처리하기"
      ]
    },
    {
      "cell_type": "code",
      "metadata": {
        "id": "mXEqC7Z9ROMT"
      },
      "source": [
        ""
      ],
      "execution_count": null,
      "outputs": []
    }
  ]
}